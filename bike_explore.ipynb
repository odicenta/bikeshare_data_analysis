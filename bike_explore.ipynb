{
 "cells": [
  {
   "cell_type": "markdown",
   "metadata": {},
   "source": [
    "# Bike Exploration Notebook companion\n",
    "This notebook has been created in order to interactively explore the bike data, to help to understand it and present it in a more graphic way."
   ]
  },
  {
   "cell_type": "code",
   "execution_count": 14,
   "metadata": {},
   "outputs": [],
   "source": [
    "# Imports needed for the data analysis\n",
    "import numpy as np\n",
    "import pandas as pd\n",
    "import matplotlib.pyplot as plt\n",
    "import pprint"
   ]
  },
  {
   "cell_type": "code",
   "execution_count": 4,
   "metadata": {},
   "outputs": [
    {
     "output_type": "execute_result",
     "data": {
      "text/plain": "         Unnamed: 0  Trip Duration     Birth Year\ncount  3.000000e+05  300000.000000  238981.000000\nmean   7.763458e+05     936.239290    1980.858223\nstd    4.481464e+05    1548.792767      11.003329\nmin    4.000000e+00      60.000000    1899.000000\n25%    3.871368e+05     393.000000    1975.000000\n50%    7.771035e+05     670.000000    1984.000000\n75%    1.164065e+06    1125.000000    1989.000000\nmax    1.551500e+06   86224.000000    2016.000000",
      "text/html": "<div>\n<style scoped>\n    .dataframe tbody tr th:only-of-type {\n        vertical-align: middle;\n    }\n\n    .dataframe tbody tr th {\n        vertical-align: top;\n    }\n\n    .dataframe thead th {\n        text-align: right;\n    }\n</style>\n<table border=\"1\" class=\"dataframe\">\n  <thead>\n    <tr style=\"text-align: right;\">\n      <th></th>\n      <th>Unnamed: 0</th>\n      <th>Trip Duration</th>\n      <th>Birth Year</th>\n    </tr>\n  </thead>\n  <tbody>\n    <tr>\n      <th>count</th>\n      <td>3.000000e+05</td>\n      <td>300000.000000</td>\n      <td>238981.000000</td>\n    </tr>\n    <tr>\n      <th>mean</th>\n      <td>7.763458e+05</td>\n      <td>936.239290</td>\n      <td>1980.858223</td>\n    </tr>\n    <tr>\n      <th>std</th>\n      <td>4.481464e+05</td>\n      <td>1548.792767</td>\n      <td>11.003329</td>\n    </tr>\n    <tr>\n      <th>min</th>\n      <td>4.000000e+00</td>\n      <td>60.000000</td>\n      <td>1899.000000</td>\n    </tr>\n    <tr>\n      <th>25%</th>\n      <td>3.871368e+05</td>\n      <td>393.000000</td>\n      <td>1975.000000</td>\n    </tr>\n    <tr>\n      <th>50%</th>\n      <td>7.771035e+05</td>\n      <td>670.000000</td>\n      <td>1984.000000</td>\n    </tr>\n    <tr>\n      <th>75%</th>\n      <td>1.164065e+06</td>\n      <td>1125.000000</td>\n      <td>1989.000000</td>\n    </tr>\n    <tr>\n      <th>max</th>\n      <td>1.551500e+06</td>\n      <td>86224.000000</td>\n      <td>2016.000000</td>\n    </tr>\n  </tbody>\n</table>\n</div>"
     },
     "metadata": {},
     "execution_count": 4
    }
   ],
   "source": [
    "# Select one of the cities. As this is just a companion notebook, one of them is selected for no particular reason.\n",
    "data_file = 'chicago.csv'\n",
    "\n",
    "# Load the data in a DataFrame\n",
    "df = pd.read_csv(data_file)\n",
    "df.describe()"
   ]
  },
  {
   "cell_type": "code",
   "execution_count": 16,
   "metadata": {},
   "outputs": [
    {
     "output_type": "stream",
     "name": "stdout",
     "text": "Unnamed: 0           Start Time             End Time  Trip Duration  \\\n0     1423854  2017-06-23 15:09:32  2017-06-23 15:14:53            321   \n1      955915  2017-05-25 18:19:03  2017-05-25 18:45:53           1610   \n2        9031  2017-01-04 08:27:49  2017-01-04 08:34:45            416   \n3      304487  2017-03-06 13:49:38  2017-03-06 13:55:28            350   \n4       45207  2017-01-17 14:53:07  2017-01-17 15:02:01            534   \n\n                   Start Station                   End Station   User Type  \\\n0           Wood St & Hubbard St       Damen Ave & Chicago Ave  Subscriber   \n1            Theater on the Lake  Sheffield Ave & Waveland Ave  Subscriber   \n2             May St & Taylor St           Wood St & Taylor St  Subscriber   \n3  Christiana Ave & Lawrence Ave  St. Louis Ave & Balmoral Ave  Subscriber   \n4         Clark St & Randolph St  Desplaines St & Jackson Blvd  Subscriber   \n\n   Gender  Birth Year  \n0    Male      1992.0  \n1  Female      1992.0  \n2    Male      1981.0  \n3    Male      1986.0  \n4    Male      1975.0  \n"
    }
   ],
   "source": [
    "# Let's do some light, preliminary data exploration:\n",
    "\n",
    "pprint.pprint(df.head())"
   ]
  },
  {
   "cell_type": "code",
   "execution_count": 6,
   "metadata": {},
   "outputs": [
    {
     "output_type": "stream",
     "name": "stdout",
     "text": "<class 'pandas.core.frame.DataFrame'>\nRangeIndex: 300000 entries, 0 to 299999\nData columns (total 9 columns):\n #   Column         Non-Null Count   Dtype  \n---  ------         --------------   -----  \n 0   Unnamed: 0     300000 non-null  int64  \n 1   Start Time     300000 non-null  object \n 2   End Time       300000 non-null  object \n 3   Trip Duration  300000 non-null  int64  \n 4   Start Station  300000 non-null  object \n 5   End Station    300000 non-null  object \n 6   User Type      300000 non-null  object \n 7   Gender         238948 non-null  object \n 8   Birth Year     238981 non-null  float64\ndtypes: float64(1), int64(2), object(6)\nmemory usage: 20.6+ MB\n"
    }
   ],
   "source": [
    "# and let's get some basic information about the columns\n",
    "df.info()"
   ]
  },
  {
   "cell_type": "code",
   "execution_count": 13,
   "metadata": {},
   "outputs": [
    {
     "output_type": "execute_result",
     "data": {
      "text/plain": "0    2017-06-23 15:09:32\n1    2017-05-25 18:19:03\n2    2017-01-04 08:27:49\n3    2017-03-06 13:49:38\n4    2017-01-17 14:53:07\nName: Start Time, dtype: object"
     },
     "metadata": {},
     "execution_count": 13
    }
   ],
   "source": [
    "# As much of the filtering will be done using the time, it looks like these columns require special attention, and by\n",
    "# looking at the previous information, it is not clear that the format is correct and we may need to transform or\n",
    "# treat it somehow\n",
    "\n",
    "df['Start Time'][0:5]"
   ]
  },
  {
   "cell_type": "code",
   "execution_count": 17,
   "metadata": {},
   "outputs": [
    {
     "output_type": "execute_result",
     "data": {
      "text/plain": "364      389\n362      367\n266      356\n328      352\n371      352\n        ... \n4962       1\n6361       1\n6755       1\n6617       1\n18039      1\nName: Trip Duration, Length: 7157, dtype: int64"
     },
     "metadata": {},
     "execution_count": 17
    }
   ],
   "source": [
    "df['Trip Duration'].value_counts()"
   ]
  },
  {
   "cell_type": "code",
   "execution_count": 18,
   "metadata": {},
   "outputs": [
    {
     "output_type": "execute_result",
     "data": {
      "text/plain": "array([  321,  1610,   416, ...,  7505,  6312, 14205], dtype=int64)"
     },
     "metadata": {},
     "execution_count": 18
    }
   ],
   "source": [
    "df['Trip Duration'].unique()"
   ]
  },
  {
   "cell_type": "code",
   "execution_count": 20,
   "metadata": {},
   "outputs": [],
   "source": [
    "# Let's transform the time columns to get them in datetime format\n",
    "df['Start Time'] = pd.to_datetime(df['Start Time'], infer_datetime_format=True)\n",
    "df['End Time'] = pd.to_datetime(df['End Time'], infer_datetime_format=True)\n"
   ]
  },
  {
   "cell_type": "code",
   "execution_count": 22,
   "metadata": {},
   "outputs": [
    {
     "output_type": "execute_result",
     "data": {
      "text/plain": "0        2017-06-23 15:09:32\n1        2017-05-25 18:19:03\n2        2017-01-04 08:27:49\n3        2017-03-06 13:49:38\n4        2017-01-17 14:53:07\n                 ...        \n299995   2017-01-21 13:18:00\n299996   2017-04-28 19:32:19\n299997   2017-02-12 09:59:01\n299998   2017-04-16 17:07:15\n299999   2017-05-30 12:38:28\nName: Start Time, Length: 300000, dtype: datetime64[ns]"
     },
     "metadata": {},
     "execution_count": 22
    }
   ],
   "source": [
    "# Let's examine one of them\n",
    "df['Start Time']"
   ]
  },
  {
   "cell_type": "code",
   "execution_count": 30,
   "metadata": {},
   "outputs": [
    {
     "output_type": "stream",
     "name": "stdout",
     "text": "Timestamp('2017-05-16 06:36:17')\n1 2017 5\n0   2017-06-23 15:09:32\n1   2017-05-25 18:19:03\n2   2017-01-04 08:27:49\n3   2017-03-06 13:49:38\n4   2017-01-17 14:53:07\nName: Start Time, dtype: datetime64[ns]\n0    6\n1    5\n2    1\n3    3\n4    1\nName: Start_month_datetime, dtype: int64\n"
    }
   ],
   "source": [
    "# Let's check if we can use this to filter a little bit by March, for example\n",
    "# As now it is datetime format, we can take advantage of that\n",
    "\n",
    "# Using the datetime format:\n",
    "pprint.pprint(df['Start Time'][20])\n",
    "print(df['Start Time'][20].dayofweek, df['Start Time'][20].year, df['Start Time'][20].month)\n",
    "\n",
    "df['Start_month_datetime'] = pd.DatetimeIndex(df['Start Time']).month\n",
    "print(df['Start Time'][0:5])\n",
    "print(df['Start_month_datetime'][0:5])"
   ]
  },
  {
   "cell_type": "code",
   "execution_count": 40,
   "metadata": {},
   "outputs": [
    {
     "output_type": "stream",
     "name": "stdout",
     "text": "count    300000.000000\nmean          4.345790\nstd           1.609719\nmin           1.000000\n25%           3.000000\n50%           5.000000\n75%           6.000000\nmax           6.000000\nName: Start_month_datetime, dtype: float64\n"
    }
   ],
   "source": [
    "# And now we can calculate some things:\n",
    "print(df['Start_month_datetime'].describe(include='all'))\n",
    "\n"
   ]
  },
  {
   "cell_type": "code",
   "execution_count": 43,
   "metadata": {},
   "outputs": [],
   "source": [
    "# The same can be accomplished by using the attribute dt, as explained in the project Exercise #1\n",
    "df['Start_year'] = df['Start Time'].dt.year\n",
    "df['Start_month'] = df['Start Time'].dt.month\n",
    "df['Start_hour'] = df['Start Time'].dt.hour\n",
    "\n"
   ]
  },
  {
   "cell_type": "code",
   "execution_count": 44,
   "metadata": {},
   "outputs": [
    {
     "output_type": "stream",
     "name": "stdout",
     "text": "Unnamed: 0          Start Time            End Time  Trip Duration  \\\n0     1423854 2017-06-23 15:09:32 2017-06-23 15:14:53            321   \n1      955915 2017-05-25 18:19:03 2017-05-25 18:45:53           1610   \n2        9031 2017-01-04 08:27:49 2017-01-04 08:34:45            416   \n3      304487 2017-03-06 13:49:38 2017-03-06 13:55:28            350   \n4       45207 2017-01-17 14:53:07 2017-01-17 15:02:01            534   \n\n                   Start Station                   End Station   User Type  \\\n0           Wood St & Hubbard St       Damen Ave & Chicago Ave  Subscriber   \n1            Theater on the Lake  Sheffield Ave & Waveland Ave  Subscriber   \n2             May St & Taylor St           Wood St & Taylor St  Subscriber   \n3  Christiana Ave & Lawrence Ave  St. Louis Ave & Balmoral Ave  Subscriber   \n4         Clark St & Randolph St  Desplaines St & Jackson Blvd  Subscriber   \n\n   Gender  Birth Year  Start_month_datetime  Start_year  Start_month  \\\n0    Male      1992.0                     6        2017            6   \n1  Female      1992.0                     5        2017            5   \n2    Male      1981.0                     1        2017            1   \n3    Male      1986.0                     3        2017            3   \n4    Male      1975.0                     1        2017            1   \n\n   Start_hour  \n0          15  \n1          18  \n2           8  \n3          13  \n4          14  \n"
    }
   ],
   "source": [
    "pprint.pprint(df.head())"
   ]
  },
  {
   "cell_type": "code",
   "execution_count": 48,
   "metadata": {},
   "outputs": [],
   "source": [
    "# Let's do some cleaning now\n",
    "df.drop(['Start_month_datetime'], axis=1, inplace=True)"
   ]
  },
  {
   "cell_type": "code",
   "execution_count": 49,
   "metadata": {},
   "outputs": [
    {
     "output_type": "execute_result",
     "data": {
      "text/plain": "   Unnamed: 0          Start Time            End Time  Trip Duration  \\\n0     1423854 2017-06-23 15:09:32 2017-06-23 15:14:53            321   \n1      955915 2017-05-25 18:19:03 2017-05-25 18:45:53           1610   \n2        9031 2017-01-04 08:27:49 2017-01-04 08:34:45            416   \n3      304487 2017-03-06 13:49:38 2017-03-06 13:55:28            350   \n4       45207 2017-01-17 14:53:07 2017-01-17 15:02:01            534   \n\n                   Start Station                   End Station   User Type  \\\n0           Wood St & Hubbard St       Damen Ave & Chicago Ave  Subscriber   \n1            Theater on the Lake  Sheffield Ave & Waveland Ave  Subscriber   \n2             May St & Taylor St           Wood St & Taylor St  Subscriber   \n3  Christiana Ave & Lawrence Ave  St. Louis Ave & Balmoral Ave  Subscriber   \n4         Clark St & Randolph St  Desplaines St & Jackson Blvd  Subscriber   \n\n   Gender  Birth Year  Start_year  Start_month  Start_hour  \n0    Male      1992.0        2017            6          15  \n1  Female      1992.0        2017            5          18  \n2    Male      1981.0        2017            1           8  \n3    Male      1986.0        2017            3          13  \n4    Male      1975.0        2017            1          14  ",
      "text/html": "<div>\n<style scoped>\n    .dataframe tbody tr th:only-of-type {\n        vertical-align: middle;\n    }\n\n    .dataframe tbody tr th {\n        vertical-align: top;\n    }\n\n    .dataframe thead th {\n        text-align: right;\n    }\n</style>\n<table border=\"1\" class=\"dataframe\">\n  <thead>\n    <tr style=\"text-align: right;\">\n      <th></th>\n      <th>Unnamed: 0</th>\n      <th>Start Time</th>\n      <th>End Time</th>\n      <th>Trip Duration</th>\n      <th>Start Station</th>\n      <th>End Station</th>\n      <th>User Type</th>\n      <th>Gender</th>\n      <th>Birth Year</th>\n      <th>Start_year</th>\n      <th>Start_month</th>\n      <th>Start_hour</th>\n    </tr>\n  </thead>\n  <tbody>\n    <tr>\n      <th>0</th>\n      <td>1423854</td>\n      <td>2017-06-23 15:09:32</td>\n      <td>2017-06-23 15:14:53</td>\n      <td>321</td>\n      <td>Wood St &amp; Hubbard St</td>\n      <td>Damen Ave &amp; Chicago Ave</td>\n      <td>Subscriber</td>\n      <td>Male</td>\n      <td>1992.0</td>\n      <td>2017</td>\n      <td>6</td>\n      <td>15</td>\n    </tr>\n    <tr>\n      <th>1</th>\n      <td>955915</td>\n      <td>2017-05-25 18:19:03</td>\n      <td>2017-05-25 18:45:53</td>\n      <td>1610</td>\n      <td>Theater on the Lake</td>\n      <td>Sheffield Ave &amp; Waveland Ave</td>\n      <td>Subscriber</td>\n      <td>Female</td>\n      <td>1992.0</td>\n      <td>2017</td>\n      <td>5</td>\n      <td>18</td>\n    </tr>\n    <tr>\n      <th>2</th>\n      <td>9031</td>\n      <td>2017-01-04 08:27:49</td>\n      <td>2017-01-04 08:34:45</td>\n      <td>416</td>\n      <td>May St &amp; Taylor St</td>\n      <td>Wood St &amp; Taylor St</td>\n      <td>Subscriber</td>\n      <td>Male</td>\n      <td>1981.0</td>\n      <td>2017</td>\n      <td>1</td>\n      <td>8</td>\n    </tr>\n    <tr>\n      <th>3</th>\n      <td>304487</td>\n      <td>2017-03-06 13:49:38</td>\n      <td>2017-03-06 13:55:28</td>\n      <td>350</td>\n      <td>Christiana Ave &amp; Lawrence Ave</td>\n      <td>St. Louis Ave &amp; Balmoral Ave</td>\n      <td>Subscriber</td>\n      <td>Male</td>\n      <td>1986.0</td>\n      <td>2017</td>\n      <td>3</td>\n      <td>13</td>\n    </tr>\n    <tr>\n      <th>4</th>\n      <td>45207</td>\n      <td>2017-01-17 14:53:07</td>\n      <td>2017-01-17 15:02:01</td>\n      <td>534</td>\n      <td>Clark St &amp; Randolph St</td>\n      <td>Desplaines St &amp; Jackson Blvd</td>\n      <td>Subscriber</td>\n      <td>Male</td>\n      <td>1975.0</td>\n      <td>2017</td>\n      <td>1</td>\n      <td>14</td>\n    </tr>\n  </tbody>\n</table>\n</div>"
     },
     "metadata": {},
     "execution_count": 49
    }
   ],
   "source": [
    "# And check that everything is in order\n",
    "df.head()"
   ]
  },
  {
   "cell_type": "code",
   "execution_count": 50,
   "metadata": {},
   "outputs": [
    {
     "output_type": "execute_result",
     "data": {
      "text/plain": "array(['Subscriber', 'Customer', 'Dependent'], dtype=object)"
     },
     "metadata": {},
     "execution_count": 50
    }
   ],
   "source": [
    "# As for the second question about the use types, let's get the use types\n",
    "df['User Type'].unique()"
   ]
  },
  {
   "cell_type": "code",
   "execution_count": 51,
   "metadata": {},
   "outputs": [
    {
     "output_type": "execute_result",
     "data": {
      "text/plain": "Subscriber    238889\nCustomer       61110\nDependent          1\nName: User Type, dtype: int64"
     },
     "metadata": {},
     "execution_count": 51
    }
   ],
   "source": [
    "# Now we need to aggregate the information and count according to this\n",
    "df['User Type'].value_counts()"
   ]
  },
  {
   "cell_type": "code",
   "execution_count": 53,
   "metadata": {},
   "outputs": [
    {
     "output_type": "execute_result",
     "data": {
      "text/plain": "1"
     },
     "metadata": {},
     "execution_count": 53
    }
   ],
   "source": [
    "# Getting the index in a list\n",
    "months = ['january', 'february', 'march', 'april', 'may', 'june']\n",
    "month = months.index('january')\n",
    "month"
   ]
  },
  {
   "cell_type": "code",
   "execution_count": 62,
   "metadata": {},
   "outputs": [
    {
     "output_type": "stream",
     "name": "stdout",
     "text": "Unnamed: 0          Start Time             End Time  Trip Duration  \\\n0     1423854 2017-06-23 15:09:32  2017-06-23 15:14:53            321   \n1      955915 2017-05-25 18:19:03  2017-05-25 18:45:53           1610   \n2        9031 2017-01-04 08:27:49  2017-01-04 08:34:45            416   \n3      304487 2017-03-06 13:49:38  2017-03-06 13:55:28            350   \n4       45207 2017-01-17 14:53:07  2017-01-17 15:02:01            534   \n\n                   Start Station                   End Station   User Type  \\\n0           Wood St & Hubbard St       Damen Ave & Chicago Ave  Subscriber   \n1            Theater on the Lake  Sheffield Ave & Waveland Ave  Subscriber   \n2             May St & Taylor St           Wood St & Taylor St  Subscriber   \n3  Christiana Ave & Lawrence Ave  St. Louis Ave & Balmoral Ave  Subscriber   \n4         Clark St & Randolph St  Desplaines St & Jackson Blvd  Subscriber   \n\n   Gender  Birth Year  month day_of_week  \n0    Male      1992.0      6      Friday  \n1  Female      1992.0      5    Thursday  \n2    Male      1981.0      1   Wednesday  \n3    Male      1986.0      3      Monday  \n4    Male      1975.0      1     Tuesday  \n    Unnamed: 0          Start Time             End Time  Trip Duration  \\\n3       304487 2017-03-06 13:49:38  2017-03-06 13:55:28            350   \n26      385517 2017-03-23 09:38:27  2017-03-23 09:42:41            254   \n34      389463 2017-03-23 20:50:57  2017-03-23 20:57:19            382   \n37      395803 2017-03-24 15:35:55  2017-03-24 15:46:10            615   \n47      371076 2017-03-20 21:27:24  2017-03-20 21:39:02            698   \n\n                    Start Station                   End Station   User Type  \\\n3   Christiana Ave & Lawrence Ave  St. Louis Ave & Balmoral Ave  Subscriber   \n26       Loomis St & Jackson Blvd      Peoria St & Jackson Blvd  Subscriber   \n34            Ellis Ave & 55th St         Kimbark Ave & 53rd St  Subscriber   \n37          Dearborn St & Erie St       State St & Van Buren St  Subscriber   \n47            Morgan St & Lake St          Larrabee St & Oak St  Subscriber   \n\n    Gender  Birth Year  month day_of_week  \n3     Male      1986.0      3      Monday  \n26  Female      1985.0      3    Thursday  \n34  Female      1993.0      3    Thursday  \n37    Male      1989.0      3      Friday  \n47    Male      1972.0      3      Monday  \n     Unnamed: 0          Start Time             End Time  Trip Duration  \\\n37       395803 2017-03-24 15:35:55  2017-03-24 15:46:10            615   \n93       395735 2017-03-24 15:32:04  2017-03-24 15:52:53           1249   \n175      395402 2017-03-24 15:10:29  2017-03-24 15:19:44            555   \n190      393400 2017-03-24 12:29:30  2017-03-24 12:48:56           1166   \n198      427496 2017-03-31 08:25:53  2017-03-31 08:39:09            796   \n\n                      Start Station                      End Station  \\\n37            Dearborn St & Erie St          State St & Van Buren St   \n93        Sedgwick St & Webster Ave      Western Ave & Winnebago Ave   \n175         Franklin St & Monroe St          Aberdeen St & Monroe St   \n190  Southport Ave & Wellington Ave       Lake Shore Dr & North Blvd   \n198       Clinton St & Jackson Blvd  Racine Ave (May St) & Fulton St   \n\n      User Type  Gender  Birth Year  month day_of_week  \n37   Subscriber    Male      1989.0      3      Friday  \n93   Subscriber  Female      1964.0      3      Friday  \n175  Subscriber    Male      1987.0      3      Friday  \n190  Subscriber  Female      1984.0      3      Friday  \n198  Subscriber    Male      1983.0      3      Friday  \n"
    }
   ],
   "source": [
    "CITY_DATA = { 'chicago': 'chicago.csv',\n",
    "              'new york city': 'new_york_city.csv',\n",
    "              'washington': 'washington.csv' }\n",
    "\n",
    "def load_data(city, month, day):\n",
    "    \"\"\"\n",
    "    Loads data for the specified city and filters by month and day if applicable.\n",
    "\n",
    "    Args:\n",
    "        (str) city - name of the city to analyze\n",
    "        (str) month - name of the month to filter by, or \"all\" to apply no month filter\n",
    "        (str) day - name of the day of week to filter by, or \"all\" to apply no day filter\n",
    "    Returns:\n",
    "        df - pandas DataFrame containing city data filtered by month and day\n",
    "    \"\"\"\n",
    "    \n",
    "    # load data file into a dataframe\n",
    "    df = pd.read_csv(CITY_DATA[city])\n",
    "\n",
    "    # convert the Start Time column to datetime\n",
    "    df['Start Time'] = pd.to_datetime(df['Start Time'])\n",
    "\n",
    "    # extract month and day of week from Start Time to create new columns\n",
    "    df['month'] = df['Start Time'].dt.month\n",
    "    df['day_of_week'] = df['Start Time'].dt.day_name()\n",
    "    print(df.head())\n",
    "\n",
    "    # filter by month if applicable\n",
    "    if month != 'all':\n",
    "        # use the index of the months list to get the corresponding int\n",
    "        months = ['january', 'february', 'march', 'april', 'may', 'june']\n",
    "        month = months.index(month) + 1\n",
    "    \n",
    "        # filter by month to create the new dataframe\n",
    "        df = df[df['month'] == month]\n",
    "        print(df.head())\n",
    "\n",
    "    # filter by day of week if applicable\n",
    "    if day != 'all':\n",
    "        # filter by day of week to create the new dataframe\n",
    "        df = df[df['day_of_week'] == day.title()]\n",
    "        print(df.head())\n",
    "    return df\n",
    "    \n",
    "df = load_data('chicago', 'march', 'friday')"
   ]
  },
  {
   "cell_type": "code",
   "execution_count": 66,
   "metadata": {},
   "outputs": [
    {
     "output_type": "execute_result",
     "data": {
      "text/plain": "'Friday'"
     },
     "metadata": {},
     "execution_count": 66
    }
   ],
   "source": [
    "df['day_of_week'].mode()[0]"
   ]
  },
  {
   "cell_type": "code",
   "execution_count": null,
   "metadata": {},
   "outputs": [],
   "source": []
  }
 ],
 "metadata": {
  "language_info": {
   "codemirror_mode": {
    "name": "ipython",
    "version": 3
   },
   "file_extension": ".py",
   "mimetype": "text/x-python",
   "name": "python",
   "nbconvert_exporter": "python",
   "pygments_lexer": "ipython3",
   "version": "3.7.4-final"
  },
  "orig_nbformat": 2,
  "kernelspec": {
   "name": "python3",
   "display_name": "Python 3"
  }
 },
 "nbformat": 4,
 "nbformat_minor": 2
}