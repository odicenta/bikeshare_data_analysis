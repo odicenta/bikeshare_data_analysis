{
 "cells": [
  {
   "cell_type": "markdown",
   "metadata": {},
   "source": [
    "# Bike Exploration Notebook companion\n",
    "This notebook has been created in order to interactively explore the bike data, to help to understand it and present it in a more graphic way."
   ]
  },
  {
   "cell_type": "code",
   "execution_count": 3,
   "metadata": {},
   "outputs": [],
   "source": [
    "# Imports needed for the data analysis\n",
    "import numpy as np\n",
    "import pandas as pd\n",
    "import matplotlib.pyplot as plt"
   ]
  },
  {
   "cell_type": "code",
   "execution_count": 4,
   "metadata": {},
   "outputs": [
    {
     "output_type": "execute_result",
     "data": {
      "text/plain": "         Unnamed: 0  Trip Duration     Birth Year\ncount  3.000000e+05  300000.000000  238981.000000\nmean   7.763458e+05     936.239290    1980.858223\nstd    4.481464e+05    1548.792767      11.003329\nmin    4.000000e+00      60.000000    1899.000000\n25%    3.871368e+05     393.000000    1975.000000\n50%    7.771035e+05     670.000000    1984.000000\n75%    1.164065e+06    1125.000000    1989.000000\nmax    1.551500e+06   86224.000000    2016.000000",
      "text/html": "<div>\n<style scoped>\n    .dataframe tbody tr th:only-of-type {\n        vertical-align: middle;\n    }\n\n    .dataframe tbody tr th {\n        vertical-align: top;\n    }\n\n    .dataframe thead th {\n        text-align: right;\n    }\n</style>\n<table border=\"1\" class=\"dataframe\">\n  <thead>\n    <tr style=\"text-align: right;\">\n      <th></th>\n      <th>Unnamed: 0</th>\n      <th>Trip Duration</th>\n      <th>Birth Year</th>\n    </tr>\n  </thead>\n  <tbody>\n    <tr>\n      <th>count</th>\n      <td>3.000000e+05</td>\n      <td>300000.000000</td>\n      <td>238981.000000</td>\n    </tr>\n    <tr>\n      <th>mean</th>\n      <td>7.763458e+05</td>\n      <td>936.239290</td>\n      <td>1980.858223</td>\n    </tr>\n    <tr>\n      <th>std</th>\n      <td>4.481464e+05</td>\n      <td>1548.792767</td>\n      <td>11.003329</td>\n    </tr>\n    <tr>\n      <th>min</th>\n      <td>4.000000e+00</td>\n      <td>60.000000</td>\n      <td>1899.000000</td>\n    </tr>\n    <tr>\n      <th>25%</th>\n      <td>3.871368e+05</td>\n      <td>393.000000</td>\n      <td>1975.000000</td>\n    </tr>\n    <tr>\n      <th>50%</th>\n      <td>7.771035e+05</td>\n      <td>670.000000</td>\n      <td>1984.000000</td>\n    </tr>\n    <tr>\n      <th>75%</th>\n      <td>1.164065e+06</td>\n      <td>1125.000000</td>\n      <td>1989.000000</td>\n    </tr>\n    <tr>\n      <th>max</th>\n      <td>1.551500e+06</td>\n      <td>86224.000000</td>\n      <td>2016.000000</td>\n    </tr>\n  </tbody>\n</table>\n</div>"
     },
     "metadata": {},
     "execution_count": 4
    }
   ],
   "source": [
    "# Select one of the cities. As this is just a companion notebook, one of them is selected for no particular reason.\n",
    "data_file = 'chicago.csv'\n",
    "\n",
    "# Load the data in a DataFrame\n",
    "df = pd.read_csv(data_file)\n",
    "df.describe()"
   ]
  },
  {
   "cell_type": "code",
   "execution_count": 5,
   "metadata": {},
   "outputs": [
    {
     "output_type": "execute_result",
     "data": {
      "text/plain": "   Unnamed: 0           Start Time             End Time  Trip Duration  \\\n0     1423854  2017-06-23 15:09:32  2017-06-23 15:14:53            321   \n1      955915  2017-05-25 18:19:03  2017-05-25 18:45:53           1610   \n2        9031  2017-01-04 08:27:49  2017-01-04 08:34:45            416   \n3      304487  2017-03-06 13:49:38  2017-03-06 13:55:28            350   \n4       45207  2017-01-17 14:53:07  2017-01-17 15:02:01            534   \n\n                   Start Station                   End Station   User Type  \\\n0           Wood St & Hubbard St       Damen Ave & Chicago Ave  Subscriber   \n1            Theater on the Lake  Sheffield Ave & Waveland Ave  Subscriber   \n2             May St & Taylor St           Wood St & Taylor St  Subscriber   \n3  Christiana Ave & Lawrence Ave  St. Louis Ave & Balmoral Ave  Subscriber   \n4         Clark St & Randolph St  Desplaines St & Jackson Blvd  Subscriber   \n\n   Gender  Birth Year  \n0    Male      1992.0  \n1  Female      1992.0  \n2    Male      1981.0  \n3    Male      1986.0  \n4    Male      1975.0  ",
      "text/html": "<div>\n<style scoped>\n    .dataframe tbody tr th:only-of-type {\n        vertical-align: middle;\n    }\n\n    .dataframe tbody tr th {\n        vertical-align: top;\n    }\n\n    .dataframe thead th {\n        text-align: right;\n    }\n</style>\n<table border=\"1\" class=\"dataframe\">\n  <thead>\n    <tr style=\"text-align: right;\">\n      <th></th>\n      <th>Unnamed: 0</th>\n      <th>Start Time</th>\n      <th>End Time</th>\n      <th>Trip Duration</th>\n      <th>Start Station</th>\n      <th>End Station</th>\n      <th>User Type</th>\n      <th>Gender</th>\n      <th>Birth Year</th>\n    </tr>\n  </thead>\n  <tbody>\n    <tr>\n      <th>0</th>\n      <td>1423854</td>\n      <td>2017-06-23 15:09:32</td>\n      <td>2017-06-23 15:14:53</td>\n      <td>321</td>\n      <td>Wood St &amp; Hubbard St</td>\n      <td>Damen Ave &amp; Chicago Ave</td>\n      <td>Subscriber</td>\n      <td>Male</td>\n      <td>1992.0</td>\n    </tr>\n    <tr>\n      <th>1</th>\n      <td>955915</td>\n      <td>2017-05-25 18:19:03</td>\n      <td>2017-05-25 18:45:53</td>\n      <td>1610</td>\n      <td>Theater on the Lake</td>\n      <td>Sheffield Ave &amp; Waveland Ave</td>\n      <td>Subscriber</td>\n      <td>Female</td>\n      <td>1992.0</td>\n    </tr>\n    <tr>\n      <th>2</th>\n      <td>9031</td>\n      <td>2017-01-04 08:27:49</td>\n      <td>2017-01-04 08:34:45</td>\n      <td>416</td>\n      <td>May St &amp; Taylor St</td>\n      <td>Wood St &amp; Taylor St</td>\n      <td>Subscriber</td>\n      <td>Male</td>\n      <td>1981.0</td>\n    </tr>\n    <tr>\n      <th>3</th>\n      <td>304487</td>\n      <td>2017-03-06 13:49:38</td>\n      <td>2017-03-06 13:55:28</td>\n      <td>350</td>\n      <td>Christiana Ave &amp; Lawrence Ave</td>\n      <td>St. Louis Ave &amp; Balmoral Ave</td>\n      <td>Subscriber</td>\n      <td>Male</td>\n      <td>1986.0</td>\n    </tr>\n    <tr>\n      <th>4</th>\n      <td>45207</td>\n      <td>2017-01-17 14:53:07</td>\n      <td>2017-01-17 15:02:01</td>\n      <td>534</td>\n      <td>Clark St &amp; Randolph St</td>\n      <td>Desplaines St &amp; Jackson Blvd</td>\n      <td>Subscriber</td>\n      <td>Male</td>\n      <td>1975.0</td>\n    </tr>\n  </tbody>\n</table>\n</div>"
     },
     "metadata": {},
     "execution_count": 5
    }
   ],
   "source": [
    "# Let's do some light, preliminary data exploration:\n",
    "df.head()"
   ]
  },
  {
   "cell_type": "code",
   "execution_count": 6,
   "metadata": {},
   "outputs": [
    {
     "output_type": "stream",
     "name": "stdout",
     "text": "<class 'pandas.core.frame.DataFrame'>\nRangeIndex: 300000 entries, 0 to 299999\nData columns (total 9 columns):\n #   Column         Non-Null Count   Dtype  \n---  ------         --------------   -----  \n 0   Unnamed: 0     300000 non-null  int64  \n 1   Start Time     300000 non-null  object \n 2   End Time       300000 non-null  object \n 3   Trip Duration  300000 non-null  int64  \n 4   Start Station  300000 non-null  object \n 5   End Station    300000 non-null  object \n 6   User Type      300000 non-null  object \n 7   Gender         238948 non-null  object \n 8   Birth Year     238981 non-null  float64\ndtypes: float64(1), int64(2), object(6)\nmemory usage: 20.6+ MB\n"
    }
   ],
   "source": [
    "# and let's get some basic information about the columns\n",
    "df.info()"
   ]
  },
  {
   "cell_type": "code",
   "execution_count": 13,
   "metadata": {},
   "outputs": [
    {
     "output_type": "execute_result",
     "data": {
      "text/plain": "0    2017-06-23 15:09:32\n1    2017-05-25 18:19:03\n2    2017-01-04 08:27:49\n3    2017-03-06 13:49:38\n4    2017-01-17 14:53:07\nName: Start Time, dtype: object"
     },
     "metadata": {},
     "execution_count": 13
    }
   ],
   "source": [
    "# As much of the filtering will be done using the time, it looks like these columns require special attention, and by\n",
    "# looking at the previous information, it is not clear that the format is correct and we may need to transform or\n",
    "# treat it somehow\n",
    "\n",
    "df['Start Time'][0:5]"
   ]
  },
  {
   "cell_type": "code",
   "execution_count": null,
   "metadata": {},
   "outputs": [],
   "source": []
  }
 ],
 "metadata": {
  "language_info": {
   "codemirror_mode": {
    "name": "ipython",
    "version": 3
   },
   "file_extension": ".py",
   "mimetype": "text/x-python",
   "name": "python",
   "nbconvert_exporter": "python",
   "pygments_lexer": "ipython3",
   "version": "3.7.4-final"
  },
  "orig_nbformat": 2,
  "kernelspec": {
   "name": "python3",
   "display_name": "Python 3"
  }
 },
 "nbformat": 4,
 "nbformat_minor": 2
}